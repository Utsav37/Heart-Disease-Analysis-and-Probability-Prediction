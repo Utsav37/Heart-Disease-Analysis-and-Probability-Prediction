{
 "cells": [
  {
   "cell_type": "raw",
   "metadata": {},
   "source": [
    "1.Project objective\n",
    "The goal of this project is to build a model that can predict the probability of heart disease occurrence, based on a combination of features that describes the disease. In order to achieve the goal, we used data sets that was collected by Cleveland Clinic Foundation in Switzerland. The dataset used in this project is part of a database contains 14 features from Cleveland Clinic Foundation for heart disease. The dataset shows different levels of heart disease presence from 1 to 4 and 0 for the absence of the disease. We have 303 rows of people data with 13 continuous observation of different symptoms. In this study, we look into different classic machine learning models, and their discoveries in diseases risks. We have developed two algorithms using linear regression and decision trees, on Cleveland dataset."
   ]
  },
  {
   "cell_type": "code",
   "execution_count": 113,
   "metadata": {},
   "outputs": [],
   "source": [
    "import pandas as pd\n",
    "import numpy as np\n",
    "from sklearn import preprocessing\n",
    "from sklearn import neighbors, datasets\n",
    "from sklearn import cross_validation\n",
    "from sklearn import svm\n",
    "from sklearn.linear_model import SGDClassifier\n",
    "import operator"
   ]
  },
  {
   "cell_type": "code",
   "execution_count": 114,
   "metadata": {},
   "outputs": [],
   "source": [
    "from sklearn.cross_validation import KFold\n",
    "import matplotlib.pyplot as plt\n",
    "import itertools\n",
    "from sklearn import metrics\n",
    "from sklearn.metrics import confusion_matrix\n",
    "import seaborn as sns\n",
    "%matplotlib inline\n",
    "from IPython.display import Image"
   ]
  },
  {
   "cell_type": "raw",
   "metadata": {},
   "source": [
    "2.Problem Statement\n",
    "A set of disease-predicting parameters {Ak} k=1,2..n is decided upon based on observed correlation with disease diagnosis (heart diseases in our case), where n is the number of such parameters. We also have a set of N patients {xi} that have been diagnosed with heart disease or not, and the dataset consists of the {Ak(xi)} parameter readings. where {wk}k=1,2..n is a set of weights for each of the n disease-predicting parameters (to be determined by fitting the dataset to the model). The models are aiming to predict the probability that a given patient x will be diagnosed as heart disease, and predict the weights of the features on finding the probability. When our data was a small data sets, then we hope that the model will fit the data without the risk of overfitting."
   ]
  },
  {
   "cell_type": "raw",
   "metadata": {},
   "source": [
    "3.Dataset Description\n",
    "The dataset used in this project is part of a database contains 14 features from Cleveland Clinic Foundation for heart disease [1]. The dataset shows different levels of heart disease presence from 1 to 4 and 0 for the absence of the disease. Experiments with the Cleveland database have concentrated on simply attempting to distinguish presence (values 1, 2, 3, 4) from absence (value 0). We have 303 rows of people data with 13 continuous observation of different symptoms."
   ]
  },
  {
   "cell_type": "code",
   "execution_count": 115,
   "metadata": {},
   "outputs": [
    {
     "data": {
      "text/html": [
       "<div>\n",
       "<style scoped>\n",
       "    .dataframe tbody tr th:only-of-type {\n",
       "        vertical-align: middle;\n",
       "    }\n",
       "\n",
       "    .dataframe tbody tr th {\n",
       "        vertical-align: top;\n",
       "    }\n",
       "\n",
       "    .dataframe thead th {\n",
       "        text-align: right;\n",
       "    }\n",
       "</style>\n",
       "<table border=\"1\" class=\"dataframe\">\n",
       "  <thead>\n",
       "    <tr style=\"text-align: right;\">\n",
       "      <th></th>\n",
       "      <th>age</th>\n",
       "      <th>sex</th>\n",
       "      <th>chest_pain</th>\n",
       "      <th>blood pressure</th>\n",
       "      <th>serum_cholestoral</th>\n",
       "      <th>fasting_blood_sugar</th>\n",
       "      <th>electrocardiographic</th>\n",
       "      <th>max_heart_rate</th>\n",
       "      <th>induced_angina</th>\n",
       "      <th>ST_depression</th>\n",
       "      <th>slope</th>\n",
       "      <th>vessels</th>\n",
       "      <th>thal</th>\n",
       "      <th>diagnosis</th>\n",
       "    </tr>\n",
       "  </thead>\n",
       "  <tbody>\n",
       "    <tr>\n",
       "      <th>0</th>\n",
       "      <td>63.0</td>\n",
       "      <td>1.0</td>\n",
       "      <td>1.0</td>\n",
       "      <td>145.0</td>\n",
       "      <td>233.0</td>\n",
       "      <td>1.0</td>\n",
       "      <td>2.0</td>\n",
       "      <td>150.0</td>\n",
       "      <td>0.0</td>\n",
       "      <td>2.3</td>\n",
       "      <td>3.0</td>\n",
       "      <td>0.0</td>\n",
       "      <td>6.0</td>\n",
       "      <td>0</td>\n",
       "    </tr>\n",
       "    <tr>\n",
       "      <th>1</th>\n",
       "      <td>67.0</td>\n",
       "      <td>1.0</td>\n",
       "      <td>4.0</td>\n",
       "      <td>160.0</td>\n",
       "      <td>286.0</td>\n",
       "      <td>0.0</td>\n",
       "      <td>2.0</td>\n",
       "      <td>108.0</td>\n",
       "      <td>1.0</td>\n",
       "      <td>1.5</td>\n",
       "      <td>2.0</td>\n",
       "      <td>3.0</td>\n",
       "      <td>3.0</td>\n",
       "      <td>2</td>\n",
       "    </tr>\n",
       "    <tr>\n",
       "      <th>2</th>\n",
       "      <td>67.0</td>\n",
       "      <td>1.0</td>\n",
       "      <td>4.0</td>\n",
       "      <td>120.0</td>\n",
       "      <td>229.0</td>\n",
       "      <td>0.0</td>\n",
       "      <td>2.0</td>\n",
       "      <td>129.0</td>\n",
       "      <td>1.0</td>\n",
       "      <td>2.6</td>\n",
       "      <td>2.0</td>\n",
       "      <td>2.0</td>\n",
       "      <td>7.0</td>\n",
       "      <td>1</td>\n",
       "    </tr>\n",
       "    <tr>\n",
       "      <th>3</th>\n",
       "      <td>37.0</td>\n",
       "      <td>1.0</td>\n",
       "      <td>3.0</td>\n",
       "      <td>130.0</td>\n",
       "      <td>250.0</td>\n",
       "      <td>0.0</td>\n",
       "      <td>0.0</td>\n",
       "      <td>187.0</td>\n",
       "      <td>0.0</td>\n",
       "      <td>3.5</td>\n",
       "      <td>3.0</td>\n",
       "      <td>0.0</td>\n",
       "      <td>3.0</td>\n",
       "      <td>0</td>\n",
       "    </tr>\n",
       "    <tr>\n",
       "      <th>4</th>\n",
       "      <td>41.0</td>\n",
       "      <td>0.0</td>\n",
       "      <td>2.0</td>\n",
       "      <td>130.0</td>\n",
       "      <td>204.0</td>\n",
       "      <td>0.0</td>\n",
       "      <td>2.0</td>\n",
       "      <td>172.0</td>\n",
       "      <td>0.0</td>\n",
       "      <td>1.4</td>\n",
       "      <td>1.0</td>\n",
       "      <td>0.0</td>\n",
       "      <td>3.0</td>\n",
       "      <td>0</td>\n",
       "    </tr>\n",
       "  </tbody>\n",
       "</table>\n",
       "</div>"
      ],
      "text/plain": [
       "    age  sex  chest_pain  blood pressure  serum_cholestoral  \\\n",
       "0  63.0  1.0         1.0           145.0              233.0   \n",
       "1  67.0  1.0         4.0           160.0              286.0   \n",
       "2  67.0  1.0         4.0           120.0              229.0   \n",
       "3  37.0  1.0         3.0           130.0              250.0   \n",
       "4  41.0  0.0         2.0           130.0              204.0   \n",
       "\n",
       "   fasting_blood_sugar  electrocardiographic  max_heart_rate  induced_angina  \\\n",
       "0                  1.0                   2.0           150.0             0.0   \n",
       "1                  0.0                   2.0           108.0             1.0   \n",
       "2                  0.0                   2.0           129.0             1.0   \n",
       "3                  0.0                   0.0           187.0             0.0   \n",
       "4                  0.0                   2.0           172.0             0.0   \n",
       "\n",
       "   ST_depression  slope vessels thal  diagnosis  \n",
       "0            2.3    3.0     0.0  6.0          0  \n",
       "1            1.5    2.0     3.0  3.0          2  \n",
       "2            2.6    2.0     2.0  7.0          1  \n",
       "3            3.5    3.0     0.0  3.0          0  \n",
       "4            1.4    1.0     0.0  3.0          0  "
      ]
     },
     "execution_count": 115,
     "metadata": {},
     "output_type": "execute_result"
    }
   ],
   "source": [
    "\n",
    "# add the rows names# add the \n",
    "header_row = ['age','sex','chest_pain','blood pressure','serum_cholestoral','fasting_blood_sugar',\\\n",
    "               'electrocardiographic','max_heart_rate','induced_angina','ST_depression','slope','vessels','thal','diagnosis']\n",
    "\n",
    "# read csv file with Cleveland heart diseases data\n",
    "heart = pd.read_csv('processed.cleveland.data.csv', names=header_row)\n",
    "heart[:5]"
   ]
  },
  {
   "cell_type": "code",
   "execution_count": 116,
   "metadata": {},
   "outputs": [
    {
     "data": {
      "text/plain": [
       "303"
      ]
     },
     "execution_count": 116,
     "metadata": {},
     "output_type": "execute_result"
    }
   ],
   "source": [
    "len(heart)"
   ]
  },
  {
   "cell_type": "raw",
   "metadata": {},
   "source": [
    "Sex:\t1 for male; 0 for female\n",
    "\n",
    "Chest pain type\tValue1: typical angina. Value2: atypical angina. Value3: non-anginal pain. Vlaue4: asymptomatic\n",
    "\n",
    "Resting blood pressure\tIn mm hg on admission to the hospital\n",
    "\n",
    "Serum cholesterol\tIn mg/dI\n",
    "\n",
    "Fasting blood sugar > 120 mg/dI\t1 for true; 0 for false\n",
    "\n",
    "Resting electrocardiographic results\tValue0: normal. Value1: having ST-T wave abnormality (T-wave inversions and/or ST elevation or depression of > 0.05 mV). Value2: showing probable or definite left ventricular hypertrophy by Estes’s criteria\n",
    "\n",
    "Maximum heart rate achieved\tcentered\n",
    "\n",
    "Exercise-induced angina\t1 for yes; 0 for no\n",
    "\n",
    "ST depression induced by exercise relative to rest\tIn mm Hg on admission to the hospital\n",
    "\n",
    "Number of major vessels\t: (0-3) colored by fluoroscopy\n",
    "\n",
    "The slope of the peak exercise ST segment\tValue1: upsloping. Value2: flat. Value3: downsloping\n",
    "\n",
    "Thallium heart scan\t3 for normal; 6 for fixed defect; 7 for reversible defect\n",
    "\n",
    "Diagnosis heart disease (angiographic disease)\tValue0: no disease. Value1: heart disease"
   ]
  },
  {
   "cell_type": "markdown",
   "metadata": {},
   "source": [
    "# 5.Data Exploration"
   ]
  },
  {
   "cell_type": "code",
   "execution_count": 117,
   "metadata": {},
   "outputs": [
    {
     "data": {
      "text/html": [
       "<div>\n",
       "<style scoped>\n",
       "    .dataframe tbody tr th:only-of-type {\n",
       "        vertical-align: middle;\n",
       "    }\n",
       "\n",
       "    .dataframe tbody tr th {\n",
       "        vertical-align: top;\n",
       "    }\n",
       "\n",
       "    .dataframe thead th {\n",
       "        text-align: right;\n",
       "    }\n",
       "</style>\n",
       "<table border=\"1\" class=\"dataframe\">\n",
       "  <thead>\n",
       "    <tr style=\"text-align: right;\">\n",
       "      <th></th>\n",
       "      <th>age</th>\n",
       "      <th>sex</th>\n",
       "      <th>chest_pain</th>\n",
       "      <th>blood pressure</th>\n",
       "      <th>serum_cholestoral</th>\n",
       "      <th>fasting_blood_sugar</th>\n",
       "      <th>electrocardiographic</th>\n",
       "      <th>max_heart_rate</th>\n",
       "      <th>induced_angina</th>\n",
       "      <th>ST_depression</th>\n",
       "      <th>slope</th>\n",
       "      <th>diagnosis</th>\n",
       "    </tr>\n",
       "  </thead>\n",
       "  <tbody>\n",
       "    <tr>\n",
       "      <th>count</th>\n",
       "      <td>303.000000</td>\n",
       "      <td>303.000000</td>\n",
       "      <td>303.000000</td>\n",
       "      <td>303.000000</td>\n",
       "      <td>303.000000</td>\n",
       "      <td>303.000000</td>\n",
       "      <td>303.000000</td>\n",
       "      <td>303.000000</td>\n",
       "      <td>303.000000</td>\n",
       "      <td>303.000000</td>\n",
       "      <td>303.000000</td>\n",
       "      <td>303.000000</td>\n",
       "    </tr>\n",
       "    <tr>\n",
       "      <th>mean</th>\n",
       "      <td>54.438944</td>\n",
       "      <td>0.679868</td>\n",
       "      <td>3.158416</td>\n",
       "      <td>131.689769</td>\n",
       "      <td>246.693069</td>\n",
       "      <td>0.148515</td>\n",
       "      <td>0.990099</td>\n",
       "      <td>149.607261</td>\n",
       "      <td>0.326733</td>\n",
       "      <td>1.039604</td>\n",
       "      <td>1.600660</td>\n",
       "      <td>0.937294</td>\n",
       "    </tr>\n",
       "    <tr>\n",
       "      <th>std</th>\n",
       "      <td>9.038662</td>\n",
       "      <td>0.467299</td>\n",
       "      <td>0.960126</td>\n",
       "      <td>17.599748</td>\n",
       "      <td>51.776918</td>\n",
       "      <td>0.356198</td>\n",
       "      <td>0.994971</td>\n",
       "      <td>22.875003</td>\n",
       "      <td>0.469794</td>\n",
       "      <td>1.161075</td>\n",
       "      <td>0.616226</td>\n",
       "      <td>1.228536</td>\n",
       "    </tr>\n",
       "    <tr>\n",
       "      <th>min</th>\n",
       "      <td>29.000000</td>\n",
       "      <td>0.000000</td>\n",
       "      <td>1.000000</td>\n",
       "      <td>94.000000</td>\n",
       "      <td>126.000000</td>\n",
       "      <td>0.000000</td>\n",
       "      <td>0.000000</td>\n",
       "      <td>71.000000</td>\n",
       "      <td>0.000000</td>\n",
       "      <td>0.000000</td>\n",
       "      <td>1.000000</td>\n",
       "      <td>0.000000</td>\n",
       "    </tr>\n",
       "    <tr>\n",
       "      <th>25%</th>\n",
       "      <td>48.000000</td>\n",
       "      <td>0.000000</td>\n",
       "      <td>3.000000</td>\n",
       "      <td>120.000000</td>\n",
       "      <td>211.000000</td>\n",
       "      <td>0.000000</td>\n",
       "      <td>0.000000</td>\n",
       "      <td>133.500000</td>\n",
       "      <td>0.000000</td>\n",
       "      <td>0.000000</td>\n",
       "      <td>1.000000</td>\n",
       "      <td>0.000000</td>\n",
       "    </tr>\n",
       "    <tr>\n",
       "      <th>50%</th>\n",
       "      <td>56.000000</td>\n",
       "      <td>1.000000</td>\n",
       "      <td>3.000000</td>\n",
       "      <td>130.000000</td>\n",
       "      <td>241.000000</td>\n",
       "      <td>0.000000</td>\n",
       "      <td>1.000000</td>\n",
       "      <td>153.000000</td>\n",
       "      <td>0.000000</td>\n",
       "      <td>0.800000</td>\n",
       "      <td>2.000000</td>\n",
       "      <td>0.000000</td>\n",
       "    </tr>\n",
       "    <tr>\n",
       "      <th>75%</th>\n",
       "      <td>61.000000</td>\n",
       "      <td>1.000000</td>\n",
       "      <td>4.000000</td>\n",
       "      <td>140.000000</td>\n",
       "      <td>275.000000</td>\n",
       "      <td>0.000000</td>\n",
       "      <td>2.000000</td>\n",
       "      <td>166.000000</td>\n",
       "      <td>1.000000</td>\n",
       "      <td>1.600000</td>\n",
       "      <td>2.000000</td>\n",
       "      <td>2.000000</td>\n",
       "    </tr>\n",
       "    <tr>\n",
       "      <th>max</th>\n",
       "      <td>77.000000</td>\n",
       "      <td>1.000000</td>\n",
       "      <td>4.000000</td>\n",
       "      <td>200.000000</td>\n",
       "      <td>564.000000</td>\n",
       "      <td>1.000000</td>\n",
       "      <td>2.000000</td>\n",
       "      <td>202.000000</td>\n",
       "      <td>1.000000</td>\n",
       "      <td>6.200000</td>\n",
       "      <td>3.000000</td>\n",
       "      <td>4.000000</td>\n",
       "    </tr>\n",
       "  </tbody>\n",
       "</table>\n",
       "</div>"
      ],
      "text/plain": [
       "              age         sex  chest_pain  blood pressure  serum_cholestoral  \\\n",
       "count  303.000000  303.000000  303.000000      303.000000         303.000000   \n",
       "mean    54.438944    0.679868    3.158416      131.689769         246.693069   \n",
       "std      9.038662    0.467299    0.960126       17.599748          51.776918   \n",
       "min     29.000000    0.000000    1.000000       94.000000         126.000000   \n",
       "25%     48.000000    0.000000    3.000000      120.000000         211.000000   \n",
       "50%     56.000000    1.000000    3.000000      130.000000         241.000000   \n",
       "75%     61.000000    1.000000    4.000000      140.000000         275.000000   \n",
       "max     77.000000    1.000000    4.000000      200.000000         564.000000   \n",
       "\n",
       "       fasting_blood_sugar  electrocardiographic  max_heart_rate  \\\n",
       "count           303.000000            303.000000      303.000000   \n",
       "mean              0.148515              0.990099      149.607261   \n",
       "std               0.356198              0.994971       22.875003   \n",
       "min               0.000000              0.000000       71.000000   \n",
       "25%               0.000000              0.000000      133.500000   \n",
       "50%               0.000000              1.000000      153.000000   \n",
       "75%               0.000000              2.000000      166.000000   \n",
       "max               1.000000              2.000000      202.000000   \n",
       "\n",
       "       induced_angina  ST_depression       slope   diagnosis  \n",
       "count      303.000000     303.000000  303.000000  303.000000  \n",
       "mean         0.326733       1.039604    1.600660    0.937294  \n",
       "std          0.469794       1.161075    0.616226    1.228536  \n",
       "min          0.000000       0.000000    1.000000    0.000000  \n",
       "25%          0.000000       0.000000    1.000000    0.000000  \n",
       "50%          0.000000       0.800000    2.000000    0.000000  \n",
       "75%          1.000000       1.600000    2.000000    2.000000  \n",
       "max          1.000000       6.200000    3.000000    4.000000  "
      ]
     },
     "execution_count": 117,
     "metadata": {},
     "output_type": "execute_result"
    }
   ],
   "source": [
    "heart.describe()"
   ]
  },
  {
   "cell_type": "code",
   "execution_count": 118,
   "metadata": {},
   "outputs": [
    {
     "name": "stdout",
     "output_type": "stream",
     "text": [
      "sex\n",
      "0.0     97\n",
      "1.0    206\n",
      "Name: age, dtype: int64\n",
      "chest_pain\n",
      "1.0     23\n",
      "2.0     50\n",
      "3.0     86\n",
      "4.0    144\n",
      "Name: age, dtype: int64\n",
      "fasting_blood_sugar\n",
      "0.0    258\n",
      "1.0     45\n",
      "Name: age, dtype: int64\n",
      "electrocardiographic\n",
      "0.0    151\n",
      "1.0      4\n",
      "2.0    148\n",
      "Name: age, dtype: int64\n",
      "induced_angina\n",
      "0.0    204\n",
      "1.0     99\n",
      "Name: age, dtype: int64\n",
      "slope\n",
      "1.0    142\n",
      "2.0    140\n",
      "3.0     21\n",
      "Name: age, dtype: int64\n",
      "vessels\n",
      "0.0    176\n",
      "1.0     65\n",
      "2.0     38\n",
      "3.0     20\n",
      "?        4\n",
      "Name: age, dtype: int64\n",
      "thal\n",
      "3.0    166\n",
      "6.0     18\n",
      "7.0    117\n",
      "?        2\n",
      "Name: age, dtype: int64\n",
      "diagnosis\n",
      "0    164\n",
      "1     55\n",
      "2     36\n",
      "3     35\n",
      "4     13\n",
      "Name: age, dtype: int64\n"
     ]
    }
   ],
   "source": [
    "# get number of people with symptom X_k\n",
    "names_descr = dict()\n",
    "categorical_columns = [\"sex\", \"chest_pain\", \"fasting_blood_sugar\", \"electrocardiographic\", \"induced_angina\", \"slope\", \"vessels\", \\\n",
    "                       \"thal\", \"diagnosis\"]\n",
    "\n",
    "for c in categorical_columns:\n",
    "    print(heart.groupby([c])[\"age\"].count())"
   ]
  },
  {
   "cell_type": "code",
   "execution_count": 119,
   "metadata": {},
   "outputs": [
    {
     "data": {
      "text/plain": [
       "age                     0\n",
       "sex                     0\n",
       "chest_pain              0\n",
       "blood pressure          0\n",
       "serum_cholestoral       0\n",
       "fasting_blood_sugar     0\n",
       "electrocardiographic    0\n",
       "max_heart_rate          0\n",
       "induced_angina          0\n",
       "ST_depression           0\n",
       "slope                   0\n",
       "vessels                 0\n",
       "thal                    0\n",
       "diagnosis               0\n",
       "dtype: int64"
      ]
     },
     "execution_count": 119,
     "metadata": {},
     "output_type": "execute_result"
    }
   ],
   "source": [
    "heart.isnull().sum()"
   ]
  },
  {
   "cell_type": "markdown",
   "metadata": {},
   "source": [
    "# 5.1 preprocess the data, to change the missing data into mean value, using simple mean imputation methods"
   ]
  },
  {
   "cell_type": "code",
   "execution_count": 120,
   "metadata": {},
   "outputs": [
    {
     "data": {
      "text/plain": [
       "Index(['age', 'sex', 'chest_pain', 'blood pressure', 'serum_cholestoral',\n",
       "       'fasting_blood_sugar', 'electrocardiographic', 'max_heart_rate',\n",
       "       'induced_angina', 'ST_depression', 'slope', 'vessels', 'thal',\n",
       "       'diagnosis'],\n",
       "      dtype='object')"
      ]
     },
     "execution_count": 120,
     "metadata": {},
     "output_type": "execute_result"
    }
   ],
   "source": [
    "heart.columns"
   ]
  },
  {
   "cell_type": "code",
   "execution_count": 122,
   "metadata": {},
   "outputs": [
    {
     "data": {
      "text/plain": [
       "age                      54.438944\n",
       "sex                       0.679868\n",
       "chest_pain                3.158416\n",
       "blood pressure          131.689769\n",
       "serum_cholestoral       246.693069\n",
       "fasting_blood_sugar       0.148515\n",
       "electrocardiographic      0.990099\n",
       "max_heart_rate          149.607261\n",
       "induced_angina            0.326733\n",
       "ST_depression             1.039604\n",
       "slope                     1.600660\n",
       "diagnosis                 0.937294\n",
       "dtype: float64"
      ]
     },
     "execution_count": 122,
     "metadata": {},
     "output_type": "execute_result"
    }
   ],
   "source": [
    "heart.mean()"
   ]
  },
  {
   "cell_type": "code",
   "execution_count": 123,
   "metadata": {},
   "outputs": [
    {
     "name": "stdout",
     "output_type": "stream",
     "text": [
      "<class 'pandas.core.frame.DataFrame'>\n",
      "RangeIndex: 303 entries, 0 to 302\n",
      "Data columns (total 14 columns):\n",
      "age                     303 non-null float64\n",
      "sex                     303 non-null float64\n",
      "chest_pain              303 non-null float64\n",
      "blood pressure          303 non-null float64\n",
      "serum_cholestoral       303 non-null float64\n",
      "fasting_blood_sugar     303 non-null float64\n",
      "electrocardiographic    303 non-null float64\n",
      "max_heart_rate          303 non-null float64\n",
      "induced_angina          303 non-null float64\n",
      "ST_depression           303 non-null float64\n",
      "slope                   303 non-null float64\n",
      "vessels                 303 non-null object\n",
      "thal                    303 non-null object\n",
      "diagnosis               303 non-null int64\n",
      "dtypes: float64(11), int64(1), object(2)\n",
      "memory usage: 33.2+ KB\n"
     ]
    }
   ],
   "source": [
    "heart.info()"
   ]
  },
  {
   "cell_type": "code",
   "execution_count": 124,
   "metadata": {},
   "outputs": [
    {
     "data": {
      "text/plain": [
       "{'age': 54.43894389438944,\n",
       " 'sex': 0.6798679867986799,\n",
       " 'chest_pain': 3.1584158415841586,\n",
       " 'blood pressure': 131.68976897689768,\n",
       " 'serum_cholestoral': 246.69306930693068,\n",
       " 'fasting_blood_sugar': 0.1485148514851485,\n",
       " 'electrocardiographic': 0.9900990099009901,\n",
       " 'max_heart_rate': 149.6072607260726,\n",
       " 'induced_angina': 0.32673267326732675,\n",
       " 'ST_depression': 1.0396039603960396,\n",
       " 'slope': 1.6006600660066006,\n",
       " 'diagnosis': 0.9372937293729373}"
      ]
     },
     "execution_count": 124,
     "metadata": {},
     "output_type": "execute_result"
    }
   ],
   "source": [
    "heart.mean().to_dict()"
   ]
  },
  {
   "cell_type": "code",
   "execution_count": 128,
   "metadata": {},
   "outputs": [],
   "source": [
    "for c in heart.columns[:-1]:\n",
    "    heart[c] = heart[c].apply( lambda x: heart[heart[c]!='?'][c].astype(float).mean() \\\n",
    "                              if x == \"?\" else x)\n",
    "    heart[c] = heart[c].astype(float)"
   ]
  },
  {
   "cell_type": "code",
   "execution_count": 129,
   "metadata": {},
   "outputs": [
    {
     "name": "stdout",
     "output_type": "stream",
     "text": [
      "<class 'pandas.core.frame.DataFrame'>\n",
      "RangeIndex: 303 entries, 0 to 302\n",
      "Data columns (total 14 columns):\n",
      "age                     303 non-null float64\n",
      "sex                     303 non-null float64\n",
      "chest_pain              303 non-null float64\n",
      "blood pressure          303 non-null float64\n",
      "serum_cholestoral       303 non-null float64\n",
      "fasting_blood_sugar     303 non-null float64\n",
      "electrocardiographic    303 non-null float64\n",
      "max_heart_rate          303 non-null float64\n",
      "induced_angina          303 non-null float64\n",
      "ST_depression           303 non-null float64\n",
      "slope                   303 non-null float64\n",
      "vessels                 303 non-null float64\n",
      "thal                    303 non-null float64\n",
      "diagnosis               303 non-null int64\n",
      "dtypes: float64(13), int64(1)\n",
      "memory usage: 33.2 KB\n"
     ]
    }
   ],
   "source": [
    "heart.info()"
   ]
  },
  {
   "cell_type": "markdown",
   "metadata": {},
   "source": [
    "### 5.2 Heart disease types discovering"
   ]
  },
  {
   "cell_type": "code",
   "execution_count": 130,
   "metadata": {},
   "outputs": [
    {
     "data": {
      "text/plain": [
       "{0, 1, 2, 3, 4}"
      ]
     },
     "execution_count": 130,
     "metadata": {},
     "output_type": "execute_result"
    }
   ],
   "source": [
    "# print the types of heart disease\n",
    "set(heart.loc[:, \"diagnosis\"].values)"
   ]
  },
  {
   "cell_type": "markdown",
   "metadata": {},
   "source": [
    "## 5.3 Let's find the ranges of each feature by disease type"
   ]
  },
  {
   "cell_type": "markdown",
   "metadata": {},
   "source": [
    "### 5.3.1 Age"
   ]
  },
  {
   "cell_type": "code",
   "execution_count": 132,
   "metadata": {},
   "outputs": [
    {
     "data": {
      "text/html": [
       "<div>\n",
       "<style scoped>\n",
       "    .dataframe tbody tr th:only-of-type {\n",
       "        vertical-align: middle;\n",
       "    }\n",
       "\n",
       "    .dataframe tbody tr th {\n",
       "        vertical-align: top;\n",
       "    }\n",
       "\n",
       "    .dataframe thead th {\n",
       "        text-align: right;\n",
       "    }\n",
       "</style>\n",
       "<table border=\"1\" class=\"dataframe\">\n",
       "  <thead>\n",
       "    <tr style=\"text-align: right;\">\n",
       "      <th></th>\n",
       "      <th>age</th>\n",
       "      <th>sex</th>\n",
       "      <th>chest_pain</th>\n",
       "      <th>blood pressure</th>\n",
       "      <th>serum_cholestoral</th>\n",
       "      <th>fasting_blood_sugar</th>\n",
       "      <th>electrocardiographic</th>\n",
       "      <th>max_heart_rate</th>\n",
       "      <th>induced_angina</th>\n",
       "      <th>ST_depression</th>\n",
       "      <th>slope</th>\n",
       "      <th>vessels</th>\n",
       "      <th>thal</th>\n",
       "      <th>diagnosis</th>\n",
       "    </tr>\n",
       "  </thead>\n",
       "  <tbody>\n",
       "    <tr>\n",
       "      <th>1</th>\n",
       "      <td>67.0</td>\n",
       "      <td>1.0</td>\n",
       "      <td>4.0</td>\n",
       "      <td>160.0</td>\n",
       "      <td>286.0</td>\n",
       "      <td>0.0</td>\n",
       "      <td>2.0</td>\n",
       "      <td>108.0</td>\n",
       "      <td>1.0</td>\n",
       "      <td>1.5</td>\n",
       "      <td>2.0</td>\n",
       "      <td>3.0</td>\n",
       "      <td>3.0</td>\n",
       "      <td>2</td>\n",
       "    </tr>\n",
       "    <tr>\n",
       "      <th>2</th>\n",
       "      <td>67.0</td>\n",
       "      <td>1.0</td>\n",
       "      <td>4.0</td>\n",
       "      <td>120.0</td>\n",
       "      <td>229.0</td>\n",
       "      <td>0.0</td>\n",
       "      <td>2.0</td>\n",
       "      <td>129.0</td>\n",
       "      <td>1.0</td>\n",
       "      <td>2.6</td>\n",
       "      <td>2.0</td>\n",
       "      <td>2.0</td>\n",
       "      <td>7.0</td>\n",
       "      <td>1</td>\n",
       "    </tr>\n",
       "    <tr>\n",
       "      <th>6</th>\n",
       "      <td>62.0</td>\n",
       "      <td>0.0</td>\n",
       "      <td>4.0</td>\n",
       "      <td>140.0</td>\n",
       "      <td>268.0</td>\n",
       "      <td>0.0</td>\n",
       "      <td>2.0</td>\n",
       "      <td>160.0</td>\n",
       "      <td>0.0</td>\n",
       "      <td>3.6</td>\n",
       "      <td>3.0</td>\n",
       "      <td>2.0</td>\n",
       "      <td>3.0</td>\n",
       "      <td>3</td>\n",
       "    </tr>\n",
       "    <tr>\n",
       "      <th>8</th>\n",
       "      <td>63.0</td>\n",
       "      <td>1.0</td>\n",
       "      <td>4.0</td>\n",
       "      <td>130.0</td>\n",
       "      <td>254.0</td>\n",
       "      <td>0.0</td>\n",
       "      <td>2.0</td>\n",
       "      <td>147.0</td>\n",
       "      <td>0.0</td>\n",
       "      <td>1.4</td>\n",
       "      <td>2.0</td>\n",
       "      <td>1.0</td>\n",
       "      <td>7.0</td>\n",
       "      <td>2</td>\n",
       "    </tr>\n",
       "    <tr>\n",
       "      <th>9</th>\n",
       "      <td>53.0</td>\n",
       "      <td>1.0</td>\n",
       "      <td>4.0</td>\n",
       "      <td>140.0</td>\n",
       "      <td>203.0</td>\n",
       "      <td>1.0</td>\n",
       "      <td>2.0</td>\n",
       "      <td>155.0</td>\n",
       "      <td>1.0</td>\n",
       "      <td>3.1</td>\n",
       "      <td>3.0</td>\n",
       "      <td>0.0</td>\n",
       "      <td>7.0</td>\n",
       "      <td>1</td>\n",
       "    </tr>\n",
       "  </tbody>\n",
       "</table>\n",
       "</div>"
      ],
      "text/plain": [
       "    age  sex  chest_pain  blood pressure  serum_cholestoral  \\\n",
       "1  67.0  1.0         4.0           160.0              286.0   \n",
       "2  67.0  1.0         4.0           120.0              229.0   \n",
       "6  62.0  0.0         4.0           140.0              268.0   \n",
       "8  63.0  1.0         4.0           130.0              254.0   \n",
       "9  53.0  1.0         4.0           140.0              203.0   \n",
       "\n",
       "   fasting_blood_sugar  electrocardiographic  max_heart_rate  induced_angina  \\\n",
       "1                  0.0                   2.0           108.0             1.0   \n",
       "2                  0.0                   2.0           129.0             1.0   \n",
       "6                  0.0                   2.0           160.0             0.0   \n",
       "8                  0.0                   2.0           147.0             0.0   \n",
       "9                  1.0                   2.0           155.0             1.0   \n",
       "\n",
       "   ST_depression  slope  vessels  thal  diagnosis  \n",
       "1            1.5    2.0      3.0   3.0          2  \n",
       "2            2.6    2.0      2.0   7.0          1  \n",
       "6            3.6    3.0      2.0   3.0          3  \n",
       "8            1.4    2.0      1.0   7.0          2  \n",
       "9            3.1    3.0      0.0   7.0          1  "
      ]
     },
     "execution_count": 132,
     "metadata": {},
     "output_type": "execute_result"
    }
   ],
   "source": [
    "heart_d = heart[heart[\"diagnosis\"] >= 1 ]\n",
    "heart_d[:5]"
   ]
  },
  {
   "cell_type": "code",
   "execution_count": 133,
   "metadata": {},
   "outputs": [
    {
     "name": "stdout",
     "output_type": "stream",
     "text": [
      "Minimum age to Maximum age per disease type\n"
     ]
    },
    {
     "data": {
      "text/plain": [
       "diagnosis\n",
       "1    35.0, 70.0\n",
       "2    42.0, 69.0\n",
       "3    39.0, 70.0\n",
       "4    38.0, 77.0\n",
       "Name: age, dtype: object"
      ]
     },
     "execution_count": 133,
     "metadata": {},
     "output_type": "execute_result"
    }
   ],
   "source": [
    "print(\"Minimum age to Maximum age per disease type\")\n",
    "\n",
    "heart_d.groupby([\"diagnosis\", ])[\"age\"].min().astype(str) + ', ' +  heart_d.groupby([\"diagnosis\", ])[\"age\"].max().astype(str)"
   ]
  },
  {
   "cell_type": "code",
   "execution_count": 139,
   "metadata": {},
   "outputs": [
    {
     "name": "stdout",
     "output_type": "stream",
     "text": [
      "Mean age per disease type\n"
     ]
    },
    {
     "data": {
      "text/plain": [
       "diagnosis\n",
       "1    55.381818\n",
       "2    58.027778\n",
       "3    56.000000\n",
       "4    59.692308\n",
       "Name: age, dtype: float64"
      ]
     },
     "execution_count": 139,
     "metadata": {},
     "output_type": "execute_result"
    }
   ],
   "source": [
    "print(\"Mean age per disease type\")\n",
    "heart_d.groupby([\"diagnosis\", ])[\"age\"].mean()"
   ]
  },
  {
   "cell_type": "code",
   "execution_count": 145,
   "metadata": {},
   "outputs": [
    {
     "data": {
      "text/plain": [
       "diagnosis  sex\n",
       "1          0.0     9\n",
       "           1.0    46\n",
       "2          0.0     7\n",
       "           1.0    29\n",
       "3          0.0     7\n",
       "           1.0    28\n",
       "4          0.0     2\n",
       "           1.0    11\n",
       "Name: age, dtype: int64"
      ]
     },
     "execution_count": 145,
     "metadata": {},
     "output_type": "execute_result"
    }
   ],
   "source": [
    "heart_d.groupby(['diagnosis','sex'])['age'].count()"
   ]
  },
  {
   "cell_type": "code",
   "execution_count": 147,
   "metadata": {},
   "outputs": [
    {
     "data": {
      "text/html": [
       "<div>\n",
       "<style scoped>\n",
       "    .dataframe tbody tr th:only-of-type {\n",
       "        vertical-align: middle;\n",
       "    }\n",
       "\n",
       "    .dataframe tbody tr th {\n",
       "        vertical-align: top;\n",
       "    }\n",
       "\n",
       "    .dataframe thead th {\n",
       "        text-align: right;\n",
       "    }\n",
       "</style>\n",
       "<table border=\"1\" class=\"dataframe\">\n",
       "  <thead>\n",
       "    <tr style=\"text-align: right;\">\n",
       "      <th></th>\n",
       "      <th></th>\n",
       "      <th>age</th>\n",
       "      <th>chest_pain</th>\n",
       "      <th>blood pressure</th>\n",
       "      <th>serum_cholestoral</th>\n",
       "      <th>fasting_blood_sugar</th>\n",
       "      <th>electrocardiographic</th>\n",
       "      <th>max_heart_rate</th>\n",
       "      <th>induced_angina</th>\n",
       "      <th>ST_depression</th>\n",
       "      <th>slope</th>\n",
       "      <th>vessels</th>\n",
       "      <th>thal</th>\n",
       "    </tr>\n",
       "    <tr>\n",
       "      <th>diagnosis</th>\n",
       "      <th>sex</th>\n",
       "      <th></th>\n",
       "      <th></th>\n",
       "      <th></th>\n",
       "      <th></th>\n",
       "      <th></th>\n",
       "      <th></th>\n",
       "      <th></th>\n",
       "      <th></th>\n",
       "      <th></th>\n",
       "      <th></th>\n",
       "      <th></th>\n",
       "      <th></th>\n",
       "    </tr>\n",
       "  </thead>\n",
       "  <tbody>\n",
       "    <tr>\n",
       "      <th rowspan=\"2\" valign=\"top\">1</th>\n",
       "      <th>0.0</th>\n",
       "      <td>9</td>\n",
       "      <td>9</td>\n",
       "      <td>9</td>\n",
       "      <td>9</td>\n",
       "      <td>9</td>\n",
       "      <td>9</td>\n",
       "      <td>9</td>\n",
       "      <td>9</td>\n",
       "      <td>9</td>\n",
       "      <td>9</td>\n",
       "      <td>9</td>\n",
       "      <td>9</td>\n",
       "    </tr>\n",
       "    <tr>\n",
       "      <th>1.0</th>\n",
       "      <td>46</td>\n",
       "      <td>46</td>\n",
       "      <td>46</td>\n",
       "      <td>46</td>\n",
       "      <td>46</td>\n",
       "      <td>46</td>\n",
       "      <td>46</td>\n",
       "      <td>46</td>\n",
       "      <td>46</td>\n",
       "      <td>46</td>\n",
       "      <td>46</td>\n",
       "      <td>46</td>\n",
       "    </tr>\n",
       "    <tr>\n",
       "      <th rowspan=\"2\" valign=\"top\">2</th>\n",
       "      <th>0.0</th>\n",
       "      <td>7</td>\n",
       "      <td>7</td>\n",
       "      <td>7</td>\n",
       "      <td>7</td>\n",
       "      <td>7</td>\n",
       "      <td>7</td>\n",
       "      <td>7</td>\n",
       "      <td>7</td>\n",
       "      <td>7</td>\n",
       "      <td>7</td>\n",
       "      <td>7</td>\n",
       "      <td>7</td>\n",
       "    </tr>\n",
       "    <tr>\n",
       "      <th>1.0</th>\n",
       "      <td>29</td>\n",
       "      <td>29</td>\n",
       "      <td>29</td>\n",
       "      <td>29</td>\n",
       "      <td>29</td>\n",
       "      <td>29</td>\n",
       "      <td>29</td>\n",
       "      <td>29</td>\n",
       "      <td>29</td>\n",
       "      <td>29</td>\n",
       "      <td>29</td>\n",
       "      <td>29</td>\n",
       "    </tr>\n",
       "    <tr>\n",
       "      <th rowspan=\"2\" valign=\"top\">3</th>\n",
       "      <th>0.0</th>\n",
       "      <td>7</td>\n",
       "      <td>7</td>\n",
       "      <td>7</td>\n",
       "      <td>7</td>\n",
       "      <td>7</td>\n",
       "      <td>7</td>\n",
       "      <td>7</td>\n",
       "      <td>7</td>\n",
       "      <td>7</td>\n",
       "      <td>7</td>\n",
       "      <td>7</td>\n",
       "      <td>7</td>\n",
       "    </tr>\n",
       "    <tr>\n",
       "      <th>1.0</th>\n",
       "      <td>28</td>\n",
       "      <td>28</td>\n",
       "      <td>28</td>\n",
       "      <td>28</td>\n",
       "      <td>28</td>\n",
       "      <td>28</td>\n",
       "      <td>28</td>\n",
       "      <td>28</td>\n",
       "      <td>28</td>\n",
       "      <td>28</td>\n",
       "      <td>28</td>\n",
       "      <td>28</td>\n",
       "    </tr>\n",
       "    <tr>\n",
       "      <th rowspan=\"2\" valign=\"top\">4</th>\n",
       "      <th>0.0</th>\n",
       "      <td>2</td>\n",
       "      <td>2</td>\n",
       "      <td>2</td>\n",
       "      <td>2</td>\n",
       "      <td>2</td>\n",
       "      <td>2</td>\n",
       "      <td>2</td>\n",
       "      <td>2</td>\n",
       "      <td>2</td>\n",
       "      <td>2</td>\n",
       "      <td>2</td>\n",
       "      <td>2</td>\n",
       "    </tr>\n",
       "    <tr>\n",
       "      <th>1.0</th>\n",
       "      <td>11</td>\n",
       "      <td>11</td>\n",
       "      <td>11</td>\n",
       "      <td>11</td>\n",
       "      <td>11</td>\n",
       "      <td>11</td>\n",
       "      <td>11</td>\n",
       "      <td>11</td>\n",
       "      <td>11</td>\n",
       "      <td>11</td>\n",
       "      <td>11</td>\n",
       "      <td>11</td>\n",
       "    </tr>\n",
       "  </tbody>\n",
       "</table>\n",
       "</div>"
      ],
      "text/plain": [
       "               age  chest_pain  blood pressure  serum_cholestoral  \\\n",
       "diagnosis sex                                                       \n",
       "1         0.0    9           9               9                  9   \n",
       "          1.0   46          46              46                 46   \n",
       "2         0.0    7           7               7                  7   \n",
       "          1.0   29          29              29                 29   \n",
       "3         0.0    7           7               7                  7   \n",
       "          1.0   28          28              28                 28   \n",
       "4         0.0    2           2               2                  2   \n",
       "          1.0   11          11              11                 11   \n",
       "\n",
       "               fasting_blood_sugar  electrocardiographic  max_heart_rate  \\\n",
       "diagnosis sex                                                              \n",
       "1         0.0                    9                     9               9   \n",
       "          1.0                   46                    46              46   \n",
       "2         0.0                    7                     7               7   \n",
       "          1.0                   29                    29              29   \n",
       "3         0.0                    7                     7               7   \n",
       "          1.0                   28                    28              28   \n",
       "4         0.0                    2                     2               2   \n",
       "          1.0                   11                    11              11   \n",
       "\n",
       "               induced_angina  ST_depression  slope  vessels  thal  \n",
       "diagnosis sex                                                       \n",
       "1         0.0               9              9      9        9     9  \n",
       "          1.0              46             46     46       46    46  \n",
       "2         0.0               7              7      7        7     7  \n",
       "          1.0              29             29     29       29    29  \n",
       "3         0.0               7              7      7        7     7  \n",
       "          1.0              28             28     28       28    28  \n",
       "4         0.0               2              2      2        2     2  \n",
       "          1.0              11             11     11       11    11  "
      ]
     },
     "execution_count": 147,
     "metadata": {},
     "output_type": "execute_result"
    }
   ],
   "source": [
    "heart_d.groupby(['diagnosis','sex']).count()"
   ]
  },
  {
   "cell_type": "markdown",
   "metadata": {},
   "source": [
    "### We can see that heart disease all types can be present in men with higher probability than in women "
   ]
  },
  {
   "cell_type": "markdown",
   "metadata": {},
   "source": [
    "# 5.3 Chest pain "
   ]
  },
  {
   "cell_type": "code",
   "execution_count": 152,
   "metadata": {},
   "outputs": [
    {
     "name": "stdout",
     "output_type": "stream",
     "text": [
      "count each chest pain value per heart disease type\n"
     ]
    },
    {
     "data": {
      "text/plain": [
       "diagnosis  chest_pain\n",
       "1          1.0            5\n",
       "           2.0            6\n",
       "           3.0            9\n",
       "           4.0           35\n",
       "2          1.0            1\n",
       "           2.0            1\n",
       "           3.0            4\n",
       "           4.0           30\n",
       "3          2.0            2\n",
       "           3.0            4\n",
       "           4.0           29\n",
       "4          1.0            1\n",
       "           3.0            1\n",
       "           4.0           11\n",
       "Name: age, dtype: int64"
      ]
     },
     "execution_count": 152,
     "metadata": {},
     "output_type": "execute_result"
    }
   ],
   "source": [
    "print(\"count each chest pain value per heart disease type\")\n",
    "heart_d.groupby(['diagnosis','chest_pain'])[\"age\"].count()"
   ]
  },
  {
   "cell_type": "markdown",
   "metadata": {},
   "source": [
    "\n",
    "### The people with chest pain = 4 often have heart disease "
   ]
  },
  {
   "cell_type": "markdown",
   "metadata": {},
   "source": [
    "### 5.3.4 blood pressure"
   ]
  },
  {
   "cell_type": "code",
   "execution_count": 153,
   "metadata": {},
   "outputs": [
    {
     "name": "stdout",
     "output_type": "stream",
     "text": [
      "Minimum blood pressure to Maximum  blood pressure per disease type\n"
     ]
    },
    {
     "data": {
      "text/plain": [
       "diagnosis\n",
       "1    108.0, 192.0\n",
       "2    100.0, 180.0\n",
       "3    100.0, 200.0\n",
       "4    112.0, 165.0\n",
       "Name: blood pressure, dtype: object"
      ]
     },
     "execution_count": 153,
     "metadata": {},
     "output_type": "execute_result"
    }
   ],
   "source": [
    "print(\"Minimum blood pressure to Maximum  blood pressure per disease type\")\n",
    "\n",
    "heart_d.groupby([\"diagnosis\"])[\"blood pressure\"].min().astype(str) + ', ' +  heart_d.groupby([\"diagnosis\"])[\"blood pressure\"].max().astype(str)"
   ]
  },
  {
   "cell_type": "code",
   "execution_count": 155,
   "metadata": {},
   "outputs": [
    {
     "name": "stdout",
     "output_type": "stream",
     "text": [
      "Mean blood pressure per disease type\n"
     ]
    },
    {
     "data": {
      "text/plain": [
       "diagnosis\n",
       "1    133.254545\n",
       "2    134.194444\n",
       "3    135.457143\n",
       "4    138.769231\n",
       "Name: blood pressure, dtype: float64"
      ]
     },
     "execution_count": 155,
     "metadata": {},
     "output_type": "execute_result"
    }
   ],
   "source": [
    "print (\"Mean blood pressure per disease type\")\n",
    "heart_d.groupby([\"diagnosis\", ])[\"blood pressure\"].mean()"
   ]
  },
  {
   "cell_type": "code",
   "execution_count": 157,
   "metadata": {},
   "outputs": [
    {
     "name": "stdout",
     "output_type": "stream",
     "text": [
      "Minimum serum_cholestoral to Maximum serum_cholestoral per disease type\n"
     ]
    },
    {
     "data": {
      "text/plain": [
       "diagnosis\n",
       "1    149.0, 335.0\n",
       "2    169.0, 409.0\n",
       "3    131.0, 353.0\n",
       "4    166.0, 407.0\n",
       "Name: serum_cholestoral, dtype: object"
      ]
     },
     "execution_count": 157,
     "metadata": {},
     "output_type": "execute_result"
    }
   ],
   "source": [
    "# 5.3.5 serum_cholestoral\n",
    "\n",
    "print(\"Minimum serum_cholestoral to Maximum serum_cholestoral per disease type\")\n",
    "\n",
    "heart_d.groupby([\"diagnosis\"])[\"serum_cholestoral\"].min().astype(str) + ', ' +  heart_d.groupby([\"diagnosis\"])[\"serum_cholestoral\"].max().astype(str)"
   ]
  },
  {
   "cell_type": "code",
   "execution_count": 158,
   "metadata": {},
   "outputs": [
    {
     "data": {
      "text/plain": [
       "diagnosis\n",
       "1    249.109091\n",
       "2    259.277778\n",
       "3    246.457143\n",
       "4    253.384615\n",
       "Name: serum_cholestoral, dtype: float64"
      ]
     },
     "execution_count": 158,
     "metadata": {},
     "output_type": "execute_result"
    }
   ],
   "source": [
    "heart_d.groupby([\"diagnosis\", ])[\"serum_cholestoral\"].mean()"
   ]
  },
  {
   "cell_type": "code",
   "execution_count": 160,
   "metadata": {},
   "outputs": [
    {
     "name": "stdout",
     "output_type": "stream",
     "text": [
      "Count each fasting_blood_sugar per heart disease type\n"
     ]
    },
    {
     "data": {
      "text/plain": [
       "diagnosis  fasting_blood_sugar\n",
       "1          0.0                    51\n",
       "           1.0                     4\n",
       "2          0.0                    27\n",
       "           1.0                     9\n",
       "3          0.0                    27\n",
       "           1.0                     8\n",
       "4          0.0                    12\n",
       "           1.0                     1\n",
       "Name: age, dtype: int64"
      ]
     },
     "execution_count": 160,
     "metadata": {},
     "output_type": "execute_result"
    }
   ],
   "source": [
    "# 5.3.6 fasting_blood_sugar\n",
    "print(\"Count each fasting_blood_sugar per heart disease type\")\n",
    "heart_d.groupby([\"diagnosis\", \"fasting_blood_sugar\"])[\"age\"].count()"
   ]
  },
  {
   "cell_type": "code",
   "execution_count": 161,
   "metadata": {},
   "outputs": [
    {
     "name": "stdout",
     "output_type": "stream",
     "text": [
      "Count each electrocardiographic per heart disease type\n"
     ]
    },
    {
     "data": {
      "text/plain": [
       "diagnosis  electrocardiographic\n",
       "1          0.0                     23\n",
       "           2.0                     32\n",
       "2          0.0                     19\n",
       "           1.0                      1\n",
       "           2.0                     16\n",
       "3          0.0                     12\n",
       "           1.0                      1\n",
       "           2.0                     22\n",
       "4          0.0                      2\n",
       "           1.0                      1\n",
       "           2.0                     10\n",
       "Name: age, dtype: int64"
      ]
     },
     "execution_count": 161,
     "metadata": {},
     "output_type": "execute_result"
    }
   ],
   "source": [
    "# 5.3.7 electrocardiographic results\n",
    "print (\"Count each electrocardiographic per heart disease type\")\n",
    "heart_d.groupby([\"diagnosis\", \"electrocardiographic\"])[\"age\"].count()"
   ]
  },
  {
   "cell_type": "code",
   "execution_count": 162,
   "metadata": {},
   "outputs": [
    {
     "name": "stdout",
     "output_type": "stream",
     "text": [
      "Minimum max_heart_rate to Maximum max_heart_rate per disease type\n"
     ]
    },
    {
     "data": {
      "text/plain": [
       "diagnosis\n",
       "1     88.0, 195.0\n",
       "2     71.0, 170.0\n",
       "3     90.0, 173.0\n",
       "4    114.0, 182.0\n",
       "Name: max_heart_rate, dtype: object"
      ]
     },
     "execution_count": 162,
     "metadata": {},
     "output_type": "execute_result"
    }
   ],
   "source": [
    "# 5.3.8 max_heart_rate\n",
    "\n",
    "print(\"Minimum max_heart_rate to Maximum max_heart_rate per disease type\")\n",
    "\n",
    "heart_d.groupby([\"diagnosis\"])[\"max_heart_rate\"].min().astype(str) + ', ' +  heart_d.groupby([\"diagnosis\"])[\"max_heart_rate\"].max().astype(str)"
   ]
  },
  {
   "cell_type": "code",
   "execution_count": 165,
   "metadata": {},
   "outputs": [
    {
     "data": {
      "text/plain": [
       "diagnosis\n",
       "1    145.927273\n",
       "2    135.583333\n",
       "3    132.057143\n",
       "4    140.615385\n",
       "Name: max_heart_rate, dtype: float64"
      ]
     },
     "execution_count": 165,
     "metadata": {},
     "output_type": "execute_result"
    }
   ],
   "source": [
    "heart_d.groupby([\"diagnosis\", ])[\"max_heart_rate\"].mean()"
   ]
  },
  {
   "cell_type": "code",
   "execution_count": 167,
   "metadata": {},
   "outputs": [
    {
     "name": "stdout",
     "output_type": "stream",
     "text": [
      "Count  induced_angina per heart disease type\n"
     ]
    },
    {
     "data": {
      "text/plain": [
       "diagnosis  induced_angina\n",
       "1          0.0               30\n",
       "           1.0               25\n",
       "2          0.0               14\n",
       "           1.0               22\n",
       "3          0.0               12\n",
       "           1.0               23\n",
       "4          0.0                7\n",
       "           1.0                6\n",
       "Name: age, dtype: int64"
      ]
     },
     "execution_count": 167,
     "metadata": {},
     "output_type": "execute_result"
    }
   ],
   "source": [
    "# 5.3.9 induced_angina\n",
    "print(\"Count  induced_angina per heart disease type\")\n",
    "heart_d.groupby([\"diagnosis\", \"induced_angina\"])[\"age\"].count()"
   ]
  },
  {
   "cell_type": "code",
   "execution_count": 169,
   "metadata": {},
   "outputs": [
    {
     "name": "stdout",
     "output_type": "stream",
     "text": [
      "Count  mean ST_depression per heart disease type\n"
     ]
    },
    {
     "data": {
      "text/plain": [
       "diagnosis\n",
       "1    1.005455\n",
       "2    1.780556\n",
       "3    1.962857\n",
       "4    2.361538\n",
       "Name: ST_depression, dtype: float64"
      ]
     },
     "execution_count": 169,
     "metadata": {},
     "output_type": "execute_result"
    }
   ],
   "source": [
    "# 5.3.10 ST_depression\n",
    "print(\"Count  mean ST_depression per heart disease type\")\n",
    "heart_d.groupby([\"diagnosis\"])[\"ST_depression\"].mean()"
   ]
  },
  {
   "cell_type": "code",
   "execution_count": 171,
   "metadata": {},
   "outputs": [
    {
     "name": "stdout",
     "output_type": "stream",
     "text": [
      "Count slope per heart disease type\n"
     ]
    },
    {
     "data": {
      "text/plain": [
       "diagnosis  slope\n",
       "1          1.0      22\n",
       "           2.0      31\n",
       "           3.0       2\n",
       "2          1.0       7\n",
       "           2.0      26\n",
       "           3.0       3\n",
       "3          1.0       6\n",
       "           2.0      24\n",
       "           3.0       5\n",
       "4          1.0       1\n",
       "           2.0      10\n",
       "           3.0       2\n",
       "Name: age, dtype: int64"
      ]
     },
     "execution_count": 171,
     "metadata": {},
     "output_type": "execute_result"
    }
   ],
   "source": [
    "# 5.3.11 slope\n",
    "print(\"Count slope per heart disease type\")\n",
    "heart_d.groupby([\"diagnosis\", \"slope\"])[\"age\"].count()\n"
   ]
  },
  {
   "cell_type": "code",
   "execution_count": 172,
   "metadata": {},
   "outputs": [
    {
     "name": "stdout",
     "output_type": "stream",
     "text": [
      "Count  mean vessels per heart disease type\n"
     ]
    },
    {
     "data": {
      "text/plain": [
       "diagnosis\n",
       "1    0.739495\n",
       "2    1.222222\n",
       "3    1.457143\n",
       "4    1.692308\n",
       "Name: vessels, dtype: float64"
      ]
     },
     "execution_count": 172,
     "metadata": {},
     "output_type": "execute_result"
    }
   ],
   "source": [
    "# 5.3.12 vessels\n",
    "print(\"Count  mean vessels per heart disease type\")\n",
    "heart_d.groupby([\"diagnosis\"])[\"vessels\"].mean()"
   ]
  },
  {
   "cell_type": "code",
   "execution_count": 173,
   "metadata": {},
   "outputs": [
    {
     "name": "stdout",
     "output_type": "stream",
     "text": [
      "Count  mean thal per heart disease type\n"
     ]
    },
    {
     "data": {
      "text/plain": [
       "diagnosis\n",
       "1    5.345455\n",
       "2    5.992617\n",
       "3    6.285714\n",
       "4    6.230769\n",
       "Name: thal, dtype: float64"
      ]
     },
     "execution_count": 173,
     "metadata": {},
     "output_type": "execute_result"
    }
   ],
   "source": [
    "# 5.3.13 thal\n",
    "print(\"Count  mean thal per heart disease type\")\n",
    "heart_d.groupby([\"diagnosis\"])[\"thal\"].mean()"
   ]
  },
  {
   "cell_type": "markdown",
   "metadata": {},
   "source": [
    "# 6 Data preprocessing"
   ]
  },
  {
   "cell_type": "code",
   "execution_count": 175,
   "metadata": {},
   "outputs": [],
   "source": [
    "# 6.1 map dependent variable y = \"diagnosis\" into binary label\n",
    "# if \"diagnosis\" == 0, member does not have disease A - we put 0\n",
    "# if \"diagnosis\" >= 1, member possess the disease A - we put 1\n",
    "heart.loc[:, \"diag_int\"] = heart.loc[:, \"diagnosis\"].apply(lambda x: 1 if x >= 1 else 0)"
   ]
  },
  {
   "cell_type": "code",
   "execution_count": 176,
   "metadata": {},
   "outputs": [
    {
     "data": {
      "text/plain": [
       "array([[0.19741527, 0.00313358, 0.00313358, ..., 0.01880145, 0.        ,\n",
       "        0.        ],\n",
       "       [0.19057465, 0.0028444 , 0.01137759, ..., 0.00853319, 0.0056888 ,\n",
       "        0.0028444 ],\n",
       "       [0.22578159, 0.00336987, 0.0134795 , ..., 0.02358912, 0.00336987,\n",
       "        0.00336987],\n",
       "       ...,\n",
       "       [0.25334975, 0.00444473, 0.01777893, ..., 0.03111313, 0.0133342 ,\n",
       "        0.00444473],\n",
       "       [0.17495449, 0.        , 0.00613875, ..., 0.00920813, 0.00306938,\n",
       "        0.00306938],\n",
       "       [0.13346695, 0.00351229, 0.01053686, ..., 0.01053686, 0.        ,\n",
       "        0.        ]])"
      ]
     },
     "execution_count": 176,
     "metadata": {},
     "output_type": "execute_result"
    }
   ],
   "source": [
    "# 6.2 normalize the data\n",
    "# create the normalizer and fit it \n",
    "preprocessing.Normalizer().fit_transform(heart)"
   ]
  },
  {
   "cell_type": "code",
   "execution_count": null,
   "metadata": {},
   "outputs": [],
   "source": []
  }
 ],
 "metadata": {
  "kernelspec": {
   "display_name": "Python 3",
   "language": "python",
   "name": "python3"
  },
  "language_info": {
   "codemirror_mode": {
    "name": "ipython",
    "version": 3
   },
   "file_extension": ".py",
   "mimetype": "text/x-python",
   "name": "python",
   "nbconvert_exporter": "python",
   "pygments_lexer": "ipython3",
   "version": "3.6.7"
  }
 },
 "nbformat": 4,
 "nbformat_minor": 2
}
